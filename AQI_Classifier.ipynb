{
 "cells": [
  {
   "cell_type": "markdown",
   "id": "c7e13d54",
   "metadata": {},
   "source": [
    "# AQI Classifier\n",
    "\n",
    "## Importing Scraped Data"
   ]
  },
  {
   "cell_type": "code",
   "execution_count": 1,
   "id": "9ac5bd8e",
   "metadata": {},
   "outputs": [],
   "source": [
    "import tensorflow as tf\n",
    "from tensorflow.keras.preprocessing.image import ImageDataGenerator\n",
    "\n",
    "'''\n",
    "#If dataset is in google drive, it can be imported from there as well \n",
    "from google.colab import drive\n",
    "drive.mount('/content/drive') \n",
    "\n",
    "# Define directories for training and validation data\n",
    "train_dir = '/content/drive/MyDrive/AQI_Estimator/Training'\n",
    "validation_dir = '/content/drive/MyDrive/AQI_Estimator/Validation'\n",
    "'''\n",
    "\n",
    "train_dir= '/AQI_Estimator_Dataset/Training'\n",
    "validation_dir = '/AQI_Estimator_Dataset/Validation'"
   ]
  },
  {
   "cell_type": "markdown",
   "id": "d444afb2",
   "metadata": {},
   "source": [
    "## Data Pre-Processing"
   ]
  },
  {
   "cell_type": "code",
   "execution_count": 3,
   "id": "12becb93",
   "metadata": {},
   "outputs": [],
   "source": [
    "# Define data generators with image augmentation\n",
    "train_datagen = ImageDataGenerator(rescale=1./255,\n",
    "                                   rotation_range=20,\n",
    "                                   width_shift_range=0.1,\n",
    "                                   height_shift_range=0.1,\n",
    "                                   shear_range=0.1,\n",
    "                                   zoom_range=0.1,\n",
    "                                   horizontal_flip=True,\n",
    "                                   fill_mode='nearest')\n",
    "validation_datagen = ImageDataGenerator(rescale=1./255)"
   ]
  },
  {
   "cell_type": "code",
   "execution_count": null,
   "id": "f5d38785",
   "metadata": {},
   "outputs": [],
   "source": []
  }
 ],
 "metadata": {
  "kernelspec": {
   "display_name": "Python 3 (ipykernel)",
   "language": "python",
   "name": "python3"
  },
  "language_info": {
   "codemirror_mode": {
    "name": "ipython",
    "version": 3
   },
   "file_extension": ".py",
   "mimetype": "text/x-python",
   "name": "python",
   "nbconvert_exporter": "python",
   "pygments_lexer": "ipython3",
   "version": "3.10.9"
  }
 },
 "nbformat": 4,
 "nbformat_minor": 5
}
