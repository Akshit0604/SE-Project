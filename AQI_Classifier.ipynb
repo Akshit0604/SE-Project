{
 "cells": [
  {
   "cell_type": "markdown",
   "id": "c7e13d54",
   "metadata": {},
   "source": [
    "# AQI Classifier\n",
    "\n",
    "## Importing Scraped Data"
   ]
  },
  {
   "cell_type": "code",
   "execution_count": 14,
   "id": "9ac5bd8e",
   "metadata": {},
   "outputs": [
    {
     "ename": "ModuleNotFoundError",
     "evalue": "No module named 'tensorflow'",
     "output_type": "error",
     "traceback": [
      "\u001b[1;31m---------------------------------------------------------------------------\u001b[0m",
      "\u001b[1;31mModuleNotFoundError\u001b[0m                       Traceback (most recent call last)",
      "\u001b[1;32mc:\\Users\\akshi\\GitHub\\SE-Project\\AQI_Classifier.ipynb Cell 2\u001b[0m line \u001b[0;36m1\n\u001b[1;32m----> <a href='vscode-notebook-cell:/c%3A/Users/akshi/GitHub/SE-Project/AQI_Classifier.ipynb#W1sZmlsZQ%3D%3D?line=0'>1</a>\u001b[0m \u001b[39mimport\u001b[39;00m \u001b[39mtensorflow\u001b[39;00m \u001b[39mas\u001b[39;00m \u001b[39mtf\u001b[39;00m\n\u001b[0;32m      <a href='vscode-notebook-cell:/c%3A/Users/akshi/GitHub/SE-Project/AQI_Classifier.ipynb#W1sZmlsZQ%3D%3D?line=1'>2</a>\u001b[0m \u001b[39mfrom\u001b[39;00m \u001b[39mtensorflow\u001b[39;00m\u001b[39m.\u001b[39;00m\u001b[39mkeras\u001b[39;00m\u001b[39m.\u001b[39;00m\u001b[39mpreprocessing\u001b[39;00m\u001b[39m.\u001b[39;00m\u001b[39mimage\u001b[39;00m \u001b[39mimport\u001b[39;00m ImageDataGenerator\n\u001b[0;32m      <a href='vscode-notebook-cell:/c%3A/Users/akshi/GitHub/SE-Project/AQI_Classifier.ipynb#W1sZmlsZQ%3D%3D?line=3'>4</a>\u001b[0m \u001b[39m'''\u001b[39;00m\n\u001b[0;32m      <a href='vscode-notebook-cell:/c%3A/Users/akshi/GitHub/SE-Project/AQI_Classifier.ipynb#W1sZmlsZQ%3D%3D?line=4'>5</a>\u001b[0m \u001b[39m#If dataset is in google drive, it can be imported from there as well \u001b[39;00m\n\u001b[0;32m      <a href='vscode-notebook-cell:/c%3A/Users/akshi/GitHub/SE-Project/AQI_Classifier.ipynb#W1sZmlsZQ%3D%3D?line=5'>6</a>\u001b[0m \u001b[39mfrom google.colab import drive\u001b[39;00m\n\u001b[1;32m   (...)\u001b[0m\n\u001b[0;32m     <a href='vscode-notebook-cell:/c%3A/Users/akshi/GitHub/SE-Project/AQI_Classifier.ipynb#W1sZmlsZQ%3D%3D?line=10'>11</a>\u001b[0m \u001b[39mvalidation_dir = '/content/drive/MyDrive/AQI_Estimator/Validation'\u001b[39;00m\n\u001b[0;32m     <a href='vscode-notebook-cell:/c%3A/Users/akshi/GitHub/SE-Project/AQI_Classifier.ipynb#W1sZmlsZQ%3D%3D?line=11'>12</a>\u001b[0m \u001b[39m'''\u001b[39;00m\n",
      "\u001b[1;31mModuleNotFoundError\u001b[0m: No module named 'tensorflow'"
     ]
    }
   ],
   "source": [
    "import tensorflow as tf\n",
    "from tensorflow.keras.preprocessing.image import ImageDataGenerator\n",
    "\n",
    "'''\n",
    "#If dataset is in google drive, it can be imported from there as well \n",
    "from google.colab import drive\n",
    "drive.mount('/content/drive') \n",
    "\n",
    "# Define directories for training and validation data\n",
    "train_dir = '/content/drive/MyDrive/AQI_Estimator/Training'\n",
    "validation_dir = '/content/drive/MyDrive/AQI_Estimator/Validation'\n",
    "'''\n",
    "\n",
    "train_dir= '/AQI_Estimator_Dataset/Training'\n",
    "validation_dir = '/AQI_Estimator_Dataset/Validation'"
   ]
  },
  {
   "cell_type": "markdown",
   "id": "d444afb2",
   "metadata": {},
   "source": [
    "## Data Pre-Processing"
   ]
  },
  {
   "cell_type": "code",
   "execution_count": null,
   "id": "12becb93",
   "metadata": {},
   "outputs": [],
   "source": [
    "# Define data generators with image augmentation\n",
    "train_datagen = ImageDataGenerator(rescale=1./255,\n",
    "                                   rotation_range=20,\n",
    "                                   width_shift_range=0.1,\n",
    "                                   height_shift_range=0.1,\n",
    "                                   shear_range=0.1,\n",
    "                                   zoom_range=0.1,\n",
    "                                   horizontal_flip=True,\n",
    "                                   fill_mode='nearest')\n",
    "validation_datagen = ImageDataGenerator(rescale=1./255)"
   ]
  },
  {
   "cell_type": "markdown",
   "id": "f7807217",
   "metadata": {},
   "source": [
    "# Creating Training and Testing Splits"
   ]
  },
  {
   "cell_type": "code",
   "execution_count": null,
   "id": "f5d38785",
   "metadata": {},
   "outputs": [],
   "source": [
    "# Define batch size and image size\n",
    "batch_size = 32\n",
    "img_size = (224, 224)\n",
    "\n",
    "# Create training and validation data generators\n",
    "train_generator = train_datagen.flow_from_directory(train_dir,\n",
    "                                                    target_size=img_size,\n",
    "                                                    batch_size=batch_size,\n",
    "                                                    class_mode='binary')\n",
    "validation_generator = validation_datagen.flow_from_directory(validation_dir,\n",
    "                                                              target_size=img_size,\n",
    "                                                              batch_size=batch_size,\n",
    "                                                              class_mode='binary')"
   ]
  },
  {
   "cell_type": "markdown",
   "id": "afe8aa7e",
   "metadata": {},
   "source": [
    "# Creating and Fine-tuning the Model"
   ]
  },
  {
   "cell_type": "markdown",
   "id": "3c38b57f",
   "metadata": {},
   "source": [
    "# Manual Testing and AQI Prediction"
   ]
  }
 ],
 "metadata": {
  "kernelspec": {
   "display_name": "Python 3 (ipykernel)",
   "language": "python",
   "name": "python3"
  },
  "language_info": {
   "codemirror_mode": {
    "name": "ipython",
    "version": 3
   },
   "file_extension": ".py",
   "mimetype": "text/x-python",
   "name": "python",
   "nbconvert_exporter": "python",
   "pygments_lexer": "ipython3",
   "version": "3.11.6"
  }
 },
 "nbformat": 4,
 "nbformat_minor": 5
}
