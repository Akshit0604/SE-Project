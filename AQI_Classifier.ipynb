{
 "cells": [
  {
   "cell_type": "markdown",
   "id": "58a9f673",
   "metadata": {},
   "source": [
    "# AQI Classifier\n",
    "\n",
    "## Importing Scraped Data"
   ]
  },
  {
   "cell_type": "code",
   "execution_count": 1,
   "id": "c9cc48c1",
   "metadata": {},
   "outputs": [],
   "source": [
    "import tensorflow as tf\n",
    "from tensorflow.keras.preprocessing.image import ImageDataGenerator\n",
    "\n",
    "'''\n",
    "#If dataset is in google drive, it can be imported from there as well \n",
    "from google.colab import drive\n",
    "drive.mount('/content/drive') \n",
    "\n",
    "# Define directories for training and validation data\n",
    "train_dir = '/content/drive/MyDrive/AQI_Estimator/Training'\n",
    "validation_dir = '/content/drive/MyDrive/AQI_Estimator/Validation'\n",
    "'''\n",
    "\n",
    "train_dir= '/AQI_Estimator_Dataset/Training'\n",
    "validation_dir = '/AQI_Estimator_Dataset/Validation'"
   ]
  }
 ],
 "metadata": {
  "kernelspec": {
   "display_name": "Python 3 (ipykernel)",
   "language": "python",
   "name": "python3"
  },
  "language_info": {
   "codemirror_mode": {
    "name": "ipython",
    "version": 3
   },
   "file_extension": ".py",
   "mimetype": "text/x-python",
   "name": "python",
   "nbconvert_exporter": "python",
   "pygments_lexer": "ipython3",
   "version": "3.10.9"
  }
 },
 "nbformat": 4,
 "nbformat_minor": 5
}
